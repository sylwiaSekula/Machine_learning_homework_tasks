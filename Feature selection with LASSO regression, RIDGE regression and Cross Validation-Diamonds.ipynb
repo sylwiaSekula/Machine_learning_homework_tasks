{
 "cells": [
  {
   "cell_type": "markdown",
   "id": "4e35a454",
   "metadata": {},
   "source": [
    "In this analysis I will use the same dataset on which some time ago I perform backward and forward selection \"Diamonds-Feature Selection - implementation forward and backward selection\" - the notebook name. It is available here:https://github.com/sylwiaSekula/Analyses-statistics-algorithms--English/blob/main/Diamonds-Feature%20Selection%20-%20implementation%20of%20Forward%20and%20Backward%20selection.ipynb .\n",
    "I will use the LASSO regression to select features and then I will compare them with the ones I selected in the above file."
   ]
  },
  {
   "cell_type": "code",
   "execution_count": 84,
   "id": "5ac1abb8",
   "metadata": {},
   "outputs": [],
   "source": [
    "import numpy as np\n",
    "import pandas as pd\n",
    "from sklearn.preprocessing import StandardScaler\n",
    "from sklearn.model_selection import train_test_split, cross_val_score\n",
    "from sklearn.linear_model import Lasso, Ridge, LassoCV, RidgeCV"
   ]
  },
  {
   "cell_type": "code",
   "execution_count": 42,
   "id": "9a368b2f",
   "metadata": {},
   "outputs": [
    {
     "name": "stdout",
     "output_type": "stream",
     "text": [
      "<class 'pandas.core.frame.DataFrame'>\n",
      "Int64Index: 53943 entries, 1 to 53943\n",
      "Data columns (total 10 columns):\n",
      " #   Column   Non-Null Count  Dtype  \n",
      "---  ------   --------------  -----  \n",
      " 0   carat    53943 non-null  float64\n",
      " 1   cut      53943 non-null  object \n",
      " 2   color    53943 non-null  object \n",
      " 3   clarity  53943 non-null  object \n",
      " 4   depth    53943 non-null  float64\n",
      " 5   table    53943 non-null  float64\n",
      " 6   price    53943 non-null  int64  \n",
      " 7   x        53943 non-null  float64\n",
      " 8   y        53943 non-null  float64\n",
      " 9   z        53943 non-null  float64\n",
      "dtypes: float64(6), int64(1), object(3)\n",
      "memory usage: 4.5+ MB\n"
     ]
    }
   ],
   "source": [
    "data_frame = pd.read_csv('./Diamonds Prices2022.csv',index_col=0)\n",
    "data_frame.info()"
   ]
  },
  {
   "cell_type": "code",
   "execution_count": 43,
   "id": "ca289778",
   "metadata": {},
   "outputs": [],
   "source": [
    "#Label encoding for variable cut, it will order them in the order - Fair - the worst cut, Premium - the best cut\n",
    "cut_names =['Fair', 'Good', 'Very Good', 'Ideal','Premium']\n",
    "cut_labels = pd.factorize(cut_names)[0]\n",
    "data_frame['cut'] = data_frame['cut'].map(dict(zip(cut_names, cut_labels)))"
   ]
  },
  {
   "cell_type": "code",
   "execution_count": 44,
   "id": "be2243e3",
   "metadata": {},
   "outputs": [],
   "source": [
    "#Label encoding, we can also encode the colors of diamonds using Label endocding,\n",
    "# because with the variable color we can order theoretically the most valuable diamonds are those with color D, \n",
    "# and the least valuable are those with color J, between them we keep the alphabetical order\n",
    "color_names =['J', 'I', 'H', 'G','F','E','D']\n",
    "color_labels = pd.factorize(color_names)[0]\n",
    "data_frame['color'] = data_frame['color'].map(dict(zip(color_names, color_labels)))"
   ]
  },
  {
   "cell_type": "code",
   "execution_count": 45,
   "id": "1f45545c",
   "metadata": {},
   "outputs": [],
   "source": [
    "#We can also order this categorical variable, since diamonds have a clarity scale \n",
    "clarity_names =['I1', 'VVS1','VVS2', 'VS1', 'VS2','SI1','SI2','IF']\n",
    "clarity_labels = pd.factorize(clarity_names)[0]\n",
    "data_frame['clarity'] = data_frame['clarity'].map(dict(zip(clarity_names, clarity_labels)))"
   ]
  },
  {
   "cell_type": "code",
   "execution_count": 52,
   "id": "a71cd900",
   "metadata": {},
   "outputs": [],
   "source": [
    "final_df = data_frame.copy()\n",
    "y = final_df['price']\n",
    "X = final_df.drop('price', axis=1)"
   ]
  },
  {
   "cell_type": "markdown",
   "id": "079bb0f5",
   "metadata": {},
   "source": [
    "## Feature selection with Lasso "
   ]
  },
  {
   "cell_type": "code",
   "execution_count": 53,
   "id": "548fb309",
   "metadata": {},
   "outputs": [],
   "source": [
    "#create the train and test datasets\n",
    "X_train, X_test, y_train, y_test = train_test_split(X, y, test_size=0.33, random_state=42)"
   ]
  },
  {
   "cell_type": "code",
   "execution_count": 54,
   "id": "0bea2c84",
   "metadata": {},
   "outputs": [],
   "source": [
    "#create the Lasso model\n",
    "lasso = Lasso(alpha=2.81)"
   ]
  },
  {
   "cell_type": "code",
   "execution_count": 55,
   "id": "0ef6af32",
   "metadata": {},
   "outputs": [
    {
     "data": {
      "text/plain": [
       "Lasso(alpha=2.81)"
      ]
     },
     "execution_count": 55,
     "metadata": {},
     "output_type": "execute_result"
    }
   ],
   "source": [
    "lasso.fit(X_train, y_train)"
   ]
  },
  {
   "cell_type": "code",
   "execution_count": 56,
   "id": "86427124",
   "metadata": {},
   "outputs": [
    {
     "name": "stdout",
     "output_type": "stream",
     "text": [
      "[(10555.482660661643, 'carat'), (114.25054992937571, 'cut'), (272.7465981311071, 'color'), (-210.82242788002804, 'clarity'), (-138.75305961623533, 'depth'), (-89.55106123905037, 'table'), (-990.3575428751835, 'x'), (0.0, 'y'), (-0.0, 'z')]\n"
     ]
    }
   ],
   "source": [
    "print(list(zip(lasso.coef_, X)))#use \"coef\" method to see coefficients for the variables. The variables Y and Z have\n",
    "# equal 0 coefficient which means they are irrelevant"
   ]
  },
  {
   "cell_type": "markdown",
   "id": "fe2e7406",
   "metadata": {},
   "source": [
    "Feature selection with the LASSO regression allowed us to select variables for the model. These are all the features in the dataset except \"Y\" and \"Z\" columns. This is a different result than I got with the previous implementation of Forward and Backward selection - there the variables selected were: \"Carat\", \"Color\" and \"Clarity\"."
   ]
  },
  {
   "cell_type": "code",
   "execution_count": 57,
   "id": "4fb811ca",
   "metadata": {},
   "outputs": [
    {
     "data": {
      "text/plain": [
       "array([ 445.67724492, 7495.71916963,  421.2426126 , ..., 1055.59908941,\n",
       "       1254.89277241, 6177.22390295])"
      ]
     },
     "execution_count": 57,
     "metadata": {},
     "output_type": "execute_result"
    }
   ],
   "source": [
    "lasso.predict(X_test)"
   ]
  },
  {
   "cell_type": "code",
   "execution_count": 58,
   "id": "77f93f4d",
   "metadata": {},
   "outputs": [
    {
     "data": {
      "text/plain": [
       "0.8770077067648161"
      ]
     },
     "execution_count": 58,
     "metadata": {},
     "output_type": "execute_result"
    }
   ],
   "source": [
    "lasso.score(X_train, y_train)"
   ]
  },
  {
   "cell_type": "code",
   "execution_count": 59,
   "id": "76953919",
   "metadata": {},
   "outputs": [
    {
     "data": {
      "text/plain": [
       "0.8793629962522866"
      ]
     },
     "execution_count": 59,
     "metadata": {},
     "output_type": "execute_result"
    }
   ],
   "source": [
    "lasso.score(X_test, y_test) #score for the train and test datasets are similar"
   ]
  },
  {
   "cell_type": "markdown",
   "id": "aac23f17",
   "metadata": {},
   "source": [
    "## Ridge regression\n",
    "Now I will perform the RIDGE regression usuing the features I selected with LASSO."
   ]
  },
  {
   "cell_type": "code",
   "execution_count": 60,
   "id": "c107ecd5",
   "metadata": {},
   "outputs": [],
   "source": [
    "#scale the data\n",
    "scaler = StandardScaler()"
   ]
  },
  {
   "cell_type": "code",
   "execution_count": 61,
   "id": "bc328f0b",
   "metadata": {},
   "outputs": [],
   "source": [
    "final_df = data_frame.copy()\n",
    "final_df[[\"carat\", \"depth\", \"table\", \"price\", 'x', 'y', 'z']] = scaler.fit_transform(data_frame\n",
    "                                                                                     [[\"carat\", \"depth\", \"table\", \"price\", 'x', 'y', 'z']])"
   ]
  },
  {
   "cell_type": "code",
   "execution_count": 63,
   "id": "1421904e",
   "metadata": {},
   "outputs": [],
   "source": [
    "y_ridge = final_df['price']#target\n",
    "X_ridge = final_df.drop(['price', 'y', 'z'], axis=1)#remove the irrelevant features and the target"
   ]
  },
  {
   "cell_type": "code",
   "execution_count": 67,
   "id": "8be7ae80",
   "metadata": {},
   "outputs": [],
   "source": [
    "#create the train and test dataset\n",
    "X_train_ridge, X_test_ridge, y_train_ridge, y_test_ridge = train_test_split(X, y, test_size=0.33, random_state=42)"
   ]
  },
  {
   "cell_type": "code",
   "execution_count": 68,
   "id": "b55f3ea4",
   "metadata": {},
   "outputs": [],
   "source": [
    "ridge = Ridge(alpha=2.81)"
   ]
  },
  {
   "cell_type": "code",
   "execution_count": 73,
   "id": "239eb3f1",
   "metadata": {},
   "outputs": [
    {
     "data": {
      "text/plain": [
       "Ridge(alpha=2.81)"
      ]
     },
     "execution_count": 73,
     "metadata": {},
     "output_type": "execute_result"
    }
   ],
   "source": [
    "ridge.fit(X_train_ridge, y_train_ridge) #fit"
   ]
  },
  {
   "cell_type": "code",
   "execution_count": 74,
   "id": "6195e45f",
   "metadata": {},
   "outputs": [
    {
     "data": {
      "text/plain": [
       "array([  39.953041  ,  358.43810025, 1602.25413741, ..., -131.57678891,\n",
       "       3319.17302609, 6698.72946293])"
      ]
     },
     "execution_count": 74,
     "metadata": {},
     "output_type": "execute_result"
    }
   ],
   "source": [
    "ridge.predict(X_train_ridge) #predict"
   ]
  },
  {
   "cell_type": "code",
   "execution_count": 71,
   "id": "7167150a",
   "metadata": {},
   "outputs": [
    {
     "data": {
      "text/plain": [
       "0.8771381103111118"
      ]
     },
     "execution_count": 71,
     "metadata": {},
     "output_type": "execute_result"
    }
   ],
   "source": [
    "ridge.score(X_train_ridge, y_train_ridge)"
   ]
  },
  {
   "cell_type": "code",
   "execution_count": 72,
   "id": "5d806c68",
   "metadata": {},
   "outputs": [
    {
     "data": {
      "text/plain": [
       "0.8794895300504209"
      ]
     },
     "execution_count": 72,
     "metadata": {},
     "output_type": "execute_result"
    }
   ],
   "source": [
    "ridge.score(X_test_ridge, y_test_ridge)"
   ]
  },
  {
   "cell_type": "markdown",
   "id": "b613ac5f",
   "metadata": {},
   "source": [
    "## Cross validation"
   ]
  },
  {
   "cell_type": "code",
   "execution_count": 90,
   "id": "950d9282",
   "metadata": {},
   "outputs": [
    {
     "name": "stdout",
     "output_type": "stream",
     "text": [
      "[0.86015154 0.88175656 0.87303158 0.86968177 0.86939401 0.89218804\n",
      " 0.87610569 0.88371352 0.87693974 0.88411653]\n"
     ]
    }
   ],
   "source": [
    "print(cross_val_score(lasso, X_train, y_train, cv=10))"
   ]
  },
  {
   "cell_type": "code",
   "execution_count": 88,
   "id": "f881af14",
   "metadata": {},
   "outputs": [
    {
     "name": "stdout",
     "output_type": "stream",
     "text": [
      "[0.85992679 0.8822906  0.87327348 0.86902155 0.8690113  0.88948488\n",
      " 0.8765135  0.88372417 0.87707722 0.88457447]\n"
     ]
    }
   ],
   "source": [
    "print(cross_val_score(ridge, X_train_ridge, y_train_ridge, cv=10))"
   ]
  }
 ],
 "metadata": {
  "kernelspec": {
   "display_name": "Python 3 (ipykernel)",
   "language": "python",
   "name": "python3"
  },
  "language_info": {
   "codemirror_mode": {
    "name": "ipython",
    "version": 3
   },
   "file_extension": ".py",
   "mimetype": "text/x-python",
   "name": "python",
   "nbconvert_exporter": "python",
   "pygments_lexer": "ipython3",
   "version": "3.9.12"
  }
 },
 "nbformat": 4,
 "nbformat_minor": 5
}
